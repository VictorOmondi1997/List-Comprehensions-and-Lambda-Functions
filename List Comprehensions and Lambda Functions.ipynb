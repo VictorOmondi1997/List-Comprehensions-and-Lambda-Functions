{
 "cells": [
  {
   "cell_type": "markdown",
   "metadata": {},
   "source": [
    "# List Comprehensions and Lambda Functions\n",
    "\n",
    "TODO:\n",
    "* Creating list comprehensions to replace loops with a single line of code.\n",
    "* Creating single use functions called lambda functions.\n",
    "\n",
    "The data set we'll use in this project is in a format called [JavaScript Object Notation](https://www.json.org/) (JSON). As the name indicates, JSON originated from the JavaScript language, but has now become a language-independent format. From a Python perspective, JSON can be thought as a collection of Python objects nested inside each other.\n",
    "\n",
    "![](https://s3.amazonaws.com/dq-content/355/json.svg)\n",
    "\n",
    "The JSON above is a list, where each element in the list is a dictionary. Each of the dictionaries have the same keys, and one of the values of each dictionary is itself a list.\n",
    "\n",
    "The Python [`json` module](https://docs.python.org/3.7/library/json.html#module-json) contains a number of functions to make working with JSON objects easier. We can use the [`json.loads()` method](https://docs.python.org/3.7/library/json.html#json.loads) to convert JSON data contained in a string to the equivalent set of Python objects:"
   ]
  },
  {
   "cell_type": "markdown",
   "metadata": {},
   "source": [
    "# Libraries"
   ]
  },
  {
   "cell_type": "code",
   "execution_count": 13,
   "metadata": {},
   "outputs": [],
   "source": [
    "import json\n",
    "import requests\n",
    "import pandas as pd"
   ]
  },
  {
   "cell_type": "code",
   "execution_count": 2,
   "metadata": {},
   "outputs": [
    {
     "name": "stdout",
     "output_type": "stream",
     "text": [
      "\n",
      "[\n",
      "    {\n",
      "        \"team_1\": \"France\",\n",
      "        \"team_2\": \"Croatia\",\n",
      "        \"game_type\": \"Final\",\n",
      "        \"score\" : [4, 2]\n",
      "    },\n",
      "    {\n",
      "        \"team_1\": \"Belgium\",\n",
      "        \"team_2\": \"England\",\n",
      "        \"game_type\": \"3rd/4th Playoff\",\n",
      "        \"score\" : [2, 0]\n",
      "    }\n",
      "]\n",
      "\n"
     ]
    }
   ],
   "source": [
    "world_cup_str = \"\"\"\n",
    "[\n",
    "    {\n",
    "        \"team_1\": \"France\",\n",
    "        \"team_2\": \"Croatia\",\n",
    "        \"game_type\": \"Final\",\n",
    "        \"score\" : [4, 2]\n",
    "    },\n",
    "    {\n",
    "        \"team_1\": \"Belgium\",\n",
    "        \"team_2\": \"England\",\n",
    "        \"game_type\": \"3rd/4th Playoff\",\n",
    "        \"score\" : [2, 0]\n",
    "    }\n",
    "]\n",
    "\"\"\"\n",
    "import json\n",
    "world_cup_obj = json.loads(world_cup_str)\n",
    "print(world_cup_str)"
   ]
  },
  {
   "cell_type": "markdown",
   "metadata": {},
   "source": [
    "One of the places where the JSON format is commonly used is in the results returned by an [Application programming interface](https://en.wikipedia.org/wiki/Application_programming_interface) (API). APIs are interfaces that can be used to send and transmit data between different computer systems.\n",
    "\n",
    "The data set from this project — [`hn_2014.json`](https://dsserver-prod-resources-1.s3.amazonaws.com/355/hn_2014.json?versionId=jhysd7HKgSD8phL3mgFUnGK5GQwCz1eg) — can be downloaded from the Hacker News API. It contains data about stories from Hacker News in 2014.\n",
    "\n",
    "## Reading a JSON File\n",
    "\n"
   ]
  },
  {
   "cell_type": "code",
   "execution_count": 3,
   "metadata": {},
   "outputs": [],
   "source": [
    "with open(\"hn_2014.json\") as file:\n",
    "    hn = json.loads(file.read())"
   ]
  },
  {
   "cell_type": "code",
   "execution_count": 4,
   "metadata": {},
   "outputs": [
    {
     "data": {
      "text/plain": [
       "list"
      ]
     },
     "execution_count": 4,
     "metadata": {},
     "output_type": "execute_result"
    }
   ],
   "source": [
    "type(hn)"
   ]
  },
  {
   "cell_type": "markdown",
   "metadata": {},
   "source": [
    "Our `hn` variable is a list. Let's find out how many objects are in the list, and the type of the first object (which will almost always be the type of every object in the list in JSON data):"
   ]
  },
  {
   "cell_type": "code",
   "execution_count": 5,
   "metadata": {},
   "outputs": [
    {
     "data": {
      "text/plain": [
       "35806"
      ]
     },
     "execution_count": 5,
     "metadata": {},
     "output_type": "execute_result"
    }
   ],
   "source": [
    "len(hn)"
   ]
  },
  {
   "cell_type": "code",
   "execution_count": 6,
   "metadata": {},
   "outputs": [
    {
     "data": {
      "text/plain": [
       "dict"
      ]
     },
     "execution_count": 6,
     "metadata": {},
     "output_type": "execute_result"
    }
   ],
   "source": [
    "type(hn[0])"
   ]
  },
  {
   "cell_type": "markdown",
   "metadata": {},
   "source": [
    "Our data set contains `35,806` dictionary objects, each representing a Hacker News story. In order to understand the format of our data set, we'll print the keys of the first dictionary:"
   ]
  },
  {
   "cell_type": "code",
   "execution_count": 7,
   "metadata": {},
   "outputs": [
    {
     "data": {
      "text/plain": [
       "dict_keys(['author', 'numComments', 'points', 'url', 'storyText', 'createdAt', 'tags', 'createdAtI', 'title', 'objectId'])"
      ]
     },
     "execution_count": 7,
     "metadata": {},
     "output_type": "execute_result"
    }
   ],
   "source": [
    "hn[0].keys()"
   ]
  },
  {
   "cell_type": "markdown",
   "metadata": {},
   "source": [
    "Here is a summary of the keys and the data that they contain:\n",
    "\n",
    "* `author`: The username of the person who submitted the story.\n",
    "* `createdAt`: The date and time at which the story was created.\n",
    "* `createdAtI`: An integer value representing the date and time at which the story was created.\n",
    "* `numComments`: The number of comments that were made on the story.\n",
    "* `objectId`: The unique identifier from Hacker News for the story.\n",
    "* `points`: The number of points the story acquired, calculated as the total number of upvotes minus the total number of downvotes.\n",
    "* `storyText`: The text of the story (if the story contains text).\n",
    "* `tags`: A list of tags associated with the story.\n",
    "* `title`: The title of the story.\n",
    "* `url`: The URL that the story links to (if the story links to a URL)."
   ]
  },
  {
   "cell_type": "markdown",
   "metadata": {},
   "source": [
    "# Deleting Dictionary Keys"
   ]
  },
  {
   "cell_type": "code",
   "execution_count": 8,
   "metadata": {},
   "outputs": [
    {
     "data": {
      "text/plain": [
       "{'author': 'dragongraphics',\n",
       " 'numComments': 0,\n",
       " 'points': 2,\n",
       " 'url': 'http://ashleynolan.co.uk/blog/are-we-getting-too-sassy',\n",
       " 'storyText': '',\n",
       " 'createdAt': '2014-05-29T08:07:50Z',\n",
       " 'tags': ['story', 'author_dragongraphics', 'story_7815238'],\n",
       " 'createdAtI': 1401350870,\n",
       " 'title': 'Are we getting too Sassy? Weighing up micro-optimisation vs. maintainability',\n",
       " 'objectId': '7815238'}"
      ]
     },
     "execution_count": 8,
     "metadata": {},
     "output_type": "execute_result"
    }
   ],
   "source": [
    "hn[0]"
   ]
  },
  {
   "cell_type": "markdown",
   "metadata": {},
   "source": [
    "You may notice that the `createdAt` and `createdAtI` keys both have the date and time data in two different formats. Because the format of `createdAt` is much easier to understand, let's do some data cleaning by deleting the `createdAtI` key from every dictionary."
   ]
  },
  {
   "cell_type": "code",
   "execution_count": 9,
   "metadata": {},
   "outputs": [
    {
     "data": {
      "text/plain": [
       "{'author': 'dragongraphics',\n",
       " 'numComments': 0,\n",
       " 'points': 2,\n",
       " 'url': 'http://ashleynolan.co.uk/blog/are-we-getting-too-sassy',\n",
       " 'storyText': '',\n",
       " 'createdAt': '2014-05-29T08:07:50Z',\n",
       " 'tags': ['story', 'author_dragongraphics', 'story_7815238'],\n",
       " 'title': 'Are we getting too Sassy? Weighing up micro-optimisation vs. maintainability',\n",
       " 'objectId': '7815238'}"
      ]
     },
     "execution_count": 9,
     "metadata": {},
     "output_type": "execute_result"
    }
   ],
   "source": [
    "def del_key(dict_, key):\n",
    "    \"\"\"delete a key in a dictionary\"\"\"\n",
    "    # create a copy so we don't\n",
    "    # modify the original dict\n",
    "    modified_dict = dict_.copy()\n",
    "    del modified_dict[key]\n",
    "    return modified_dict\n",
    "hn_clean = [del_key(dict_, 'createdAtI') for dict_ in hn]\n",
    "hn_clean[0]"
   ]
  },
  {
   "cell_type": "markdown",
   "metadata": {},
   "source": [
    "## URLs from each story."
   ]
  },
  {
   "cell_type": "code",
   "execution_count": 10,
   "metadata": {},
   "outputs": [
    {
     "data": {
      "text/plain": [
       "['http://ashleynolan.co.uk/blog/are-we-getting-too-sassy',\n",
       " 'http://spectrum.ieee.org/automaton/robotics/home-robots/telemba-telepresence-robot',\n",
       " 'http://online.wsj.com/articles/apple-to-buy-beats-1401308971',\n",
       " 'http://alexsblog.org/2014/05/29/dont-wait-for-inspiration/',\n",
       " 'http://techcrunch.com/2014/05/28/hackerone-get-9m-in-series-a-funding-to-build-bug-tracking-bounty-programs/']"
      ]
     },
     "execution_count": 10,
     "metadata": {},
     "output_type": "execute_result"
    }
   ],
   "source": [
    "urls = [dic['url'] for dic in hn_clean]\n",
    "urls[:5]"
   ]
  },
  {
   "cell_type": "markdown",
   "metadata": {},
   "source": [
    "## count how many stories have more than 1,000 points."
   ]
  },
  {
   "cell_type": "code",
   "execution_count": 11,
   "metadata": {},
   "outputs": [
    {
     "data": {
      "text/plain": [
       "8"
      ]
     },
     "execution_count": 11,
     "metadata": {},
     "output_type": "execute_result"
    }
   ],
   "source": [
    "len([dic for dic in hn_clean if dic['points']>1000])"
   ]
  },
  {
   "cell_type": "markdown",
   "metadata": {},
   "source": [
    "# the story that has the greatest number of comments."
   ]
  },
  {
   "cell_type": "code",
   "execution_count": 14,
   "metadata": {},
   "outputs": [
    {
     "data": {
      "text/html": [
       "<div>\n",
       "<style scoped>\n",
       "    .dataframe tbody tr th:only-of-type {\n",
       "        vertical-align: middle;\n",
       "    }\n",
       "\n",
       "    .dataframe tbody tr th {\n",
       "        vertical-align: top;\n",
       "    }\n",
       "\n",
       "    .dataframe thead th {\n",
       "        text-align: right;\n",
       "    }\n",
       "</style>\n",
       "<table border=\"1\" class=\"dataframe\">\n",
       "  <thead>\n",
       "    <tr style=\"text-align: right;\">\n",
       "      <th></th>\n",
       "      <th>author</th>\n",
       "      <th>numComments</th>\n",
       "      <th>points</th>\n",
       "      <th>url</th>\n",
       "      <th>storyText</th>\n",
       "      <th>createdAt</th>\n",
       "      <th>tags</th>\n",
       "      <th>title</th>\n",
       "      <th>objectId</th>\n",
       "    </tr>\n",
       "  </thead>\n",
       "  <tbody>\n",
       "    <tr>\n",
       "      <th>0</th>\n",
       "      <td>platz</td>\n",
       "      <td>1208</td>\n",
       "      <td>889</td>\n",
       "      <td>https://blog.mozilla.org/blog/2014/04/03/brend...</td>\n",
       "      <td>None</td>\n",
       "      <td>2014-04-03T19:02:53Z</td>\n",
       "      <td>story</td>\n",
       "      <td>Brendan Eich Steps Down as Mozilla CEO</td>\n",
       "      <td>7525198</td>\n",
       "    </tr>\n",
       "    <tr>\n",
       "      <th>1</th>\n",
       "      <td>platz</td>\n",
       "      <td>1208</td>\n",
       "      <td>889</td>\n",
       "      <td>https://blog.mozilla.org/blog/2014/04/03/brend...</td>\n",
       "      <td>None</td>\n",
       "      <td>2014-04-03T19:02:53Z</td>\n",
       "      <td>author_platz</td>\n",
       "      <td>Brendan Eich Steps Down as Mozilla CEO</td>\n",
       "      <td>7525198</td>\n",
       "    </tr>\n",
       "    <tr>\n",
       "      <th>2</th>\n",
       "      <td>platz</td>\n",
       "      <td>1208</td>\n",
       "      <td>889</td>\n",
       "      <td>https://blog.mozilla.org/blog/2014/04/03/brend...</td>\n",
       "      <td>None</td>\n",
       "      <td>2014-04-03T19:02:53Z</td>\n",
       "      <td>story_7525198</td>\n",
       "      <td>Brendan Eich Steps Down as Mozilla CEO</td>\n",
       "      <td>7525198</td>\n",
       "    </tr>\n",
       "  </tbody>\n",
       "</table>\n",
       "</div>"
      ],
      "text/plain": [
       "  author  numComments  points  \\\n",
       "0  platz         1208     889   \n",
       "1  platz         1208     889   \n",
       "2  platz         1208     889   \n",
       "\n",
       "                                                 url storyText  \\\n",
       "0  https://blog.mozilla.org/blog/2014/04/03/brend...      None   \n",
       "1  https://blog.mozilla.org/blog/2014/04/03/brend...      None   \n",
       "2  https://blog.mozilla.org/blog/2014/04/03/brend...      None   \n",
       "\n",
       "              createdAt           tags  \\\n",
       "0  2014-04-03T19:02:53Z          story   \n",
       "1  2014-04-03T19:02:53Z   author_platz   \n",
       "2  2014-04-03T19:02:53Z  story_7525198   \n",
       "\n",
       "                                    title objectId  \n",
       "0  Brendan Eich Steps Down as Mozilla CEO  7525198  \n",
       "1  Brendan Eich Steps Down as Mozilla CEO  7525198  \n",
       "2  Brendan Eich Steps Down as Mozilla CEO  7525198  "
      ]
     },
     "execution_count": 14,
     "metadata": {},
     "output_type": "execute_result"
    }
   ],
   "source": [
    "pd.DataFrame(max(hn_clean, key=lambda x: x['numComments']))"
   ]
  },
  {
   "cell_type": "markdown",
   "metadata": {},
   "source": [
    "# lambda functions\n",
    "\n",
    "![](https://s3.amazonaws.com/dq-content/355/lambda_1_anim.svg)"
   ]
  },
  {
   "cell_type": "code",
   "execution_count": 15,
   "metadata": {},
   "outputs": [
    {
     "data": {
      "text/plain": [
       "500"
      ]
     },
     "execution_count": 15,
     "metadata": {},
     "output_type": "execute_result"
    }
   ],
   "source": [
    "multiply = lambda a, b: a*b\n",
    "multiply(100,5)"
   ]
  },
  {
   "cell_type": "markdown",
   "metadata": {},
   "source": [
    "# posts that had the most points in 2014!"
   ]
  },
  {
   "cell_type": "code",
   "execution_count": 16,
   "metadata": {},
   "outputs": [
    {
     "data": {
      "text/plain": [
       "['2048',\n",
       " 'Today is The Day We Fight Back',\n",
       " 'Wozniak: “Actually, the movie was largely a lie about me”',\n",
       " 'Microsoft Open Sources C# Compiler',\n",
       " 'Elon Musk: To the People of New Jersey']"
      ]
     },
     "execution_count": 16,
     "metadata": {},
     "output_type": "execute_result"
    }
   ],
   "source": [
    "hn_sorted_points = sorted(hn_clean, key=lambda x: x['points'], reverse=True)\n",
    "[n['title'] for n in hn_sorted_points[:5]]"
   ]
  },
  {
   "cell_type": "markdown",
   "metadata": {},
   "source": [
    "# Reading JSON file into Pandas"
   ]
  },
  {
   "cell_type": "code",
   "execution_count": 17,
   "metadata": {},
   "outputs": [
    {
     "data": {
      "text/html": [
       "<div>\n",
       "<style scoped>\n",
       "    .dataframe tbody tr th:only-of-type {\n",
       "        vertical-align: middle;\n",
       "    }\n",
       "\n",
       "    .dataframe tbody tr th {\n",
       "        vertical-align: top;\n",
       "    }\n",
       "\n",
       "    .dataframe thead th {\n",
       "        text-align: right;\n",
       "    }\n",
       "</style>\n",
       "<table border=\"1\" class=\"dataframe\">\n",
       "  <thead>\n",
       "    <tr style=\"text-align: right;\">\n",
       "      <th></th>\n",
       "      <th>author</th>\n",
       "      <th>numComments</th>\n",
       "      <th>points</th>\n",
       "      <th>url</th>\n",
       "      <th>storyText</th>\n",
       "      <th>createdAt</th>\n",
       "      <th>tags</th>\n",
       "      <th>title</th>\n",
       "      <th>objectId</th>\n",
       "    </tr>\n",
       "  </thead>\n",
       "  <tbody>\n",
       "    <tr>\n",
       "      <th>0</th>\n",
       "      <td>dragongraphics</td>\n",
       "      <td>0</td>\n",
       "      <td>2</td>\n",
       "      <td>http://ashleynolan.co.uk/blog/are-we-getting-t...</td>\n",
       "      <td></td>\n",
       "      <td>2014-05-29T08:07:50Z</td>\n",
       "      <td>[story, author_dragongraphics, story_7815238]</td>\n",
       "      <td>Are we getting too Sassy? Weighing up micro-op...</td>\n",
       "      <td>7815238</td>\n",
       "    </tr>\n",
       "    <tr>\n",
       "      <th>1</th>\n",
       "      <td>jcr</td>\n",
       "      <td>0</td>\n",
       "      <td>1</td>\n",
       "      <td>http://spectrum.ieee.org/automaton/robotics/ho...</td>\n",
       "      <td></td>\n",
       "      <td>2014-05-29T08:05:58Z</td>\n",
       "      <td>[story, author_jcr, story_7815234]</td>\n",
       "      <td>Telemba Turns Your Old Roomba and Tablet Into ...</td>\n",
       "      <td>7815234</td>\n",
       "    </tr>\n",
       "    <tr>\n",
       "      <th>2</th>\n",
       "      <td>callum85</td>\n",
       "      <td>0</td>\n",
       "      <td>1</td>\n",
       "      <td>http://online.wsj.com/articles/apple-to-buy-be...</td>\n",
       "      <td></td>\n",
       "      <td>2014-05-29T08:05:06Z</td>\n",
       "      <td>[story, author_callum85, story_7815230]</td>\n",
       "      <td>Apple Agrees to Buy Beats for $3 Billion</td>\n",
       "      <td>7815230</td>\n",
       "    </tr>\n",
       "    <tr>\n",
       "      <th>3</th>\n",
       "      <td>d3v3r0</td>\n",
       "      <td>0</td>\n",
       "      <td>1</td>\n",
       "      <td>http://alexsblog.org/2014/05/29/dont-wait-for-...</td>\n",
       "      <td></td>\n",
       "      <td>2014-05-29T08:00:08Z</td>\n",
       "      <td>[story, author_d3v3r0, story_7815222]</td>\n",
       "      <td>Don’t wait for inspiration</td>\n",
       "      <td>7815222</td>\n",
       "    </tr>\n",
       "    <tr>\n",
       "      <th>4</th>\n",
       "      <td>timmipetit</td>\n",
       "      <td>0</td>\n",
       "      <td>1</td>\n",
       "      <td>http://techcrunch.com/2014/05/28/hackerone-get...</td>\n",
       "      <td></td>\n",
       "      <td>2014-05-29T07:46:19Z</td>\n",
       "      <td>[story, author_timmipetit, story_7815191]</td>\n",
       "      <td>HackerOne Get $9M In Series A Funding To Build...</td>\n",
       "      <td>7815191</td>\n",
       "    </tr>\n",
       "  </tbody>\n",
       "</table>\n",
       "</div>"
      ],
      "text/plain": [
       "           author  numComments  points  \\\n",
       "0  dragongraphics            0       2   \n",
       "1             jcr            0       1   \n",
       "2        callum85            0       1   \n",
       "3          d3v3r0            0       1   \n",
       "4      timmipetit            0       1   \n",
       "\n",
       "                                                 url storyText  \\\n",
       "0  http://ashleynolan.co.uk/blog/are-we-getting-t...             \n",
       "1  http://spectrum.ieee.org/automaton/robotics/ho...             \n",
       "2  http://online.wsj.com/articles/apple-to-buy-be...             \n",
       "3  http://alexsblog.org/2014/05/29/dont-wait-for-...             \n",
       "4  http://techcrunch.com/2014/05/28/hackerone-get...             \n",
       "\n",
       "              createdAt                                           tags  \\\n",
       "0  2014-05-29T08:07:50Z  [story, author_dragongraphics, story_7815238]   \n",
       "1  2014-05-29T08:05:58Z             [story, author_jcr, story_7815234]   \n",
       "2  2014-05-29T08:05:06Z        [story, author_callum85, story_7815230]   \n",
       "3  2014-05-29T08:00:08Z          [story, author_d3v3r0, story_7815222]   \n",
       "4  2014-05-29T07:46:19Z      [story, author_timmipetit, story_7815191]   \n",
       "\n",
       "                                               title objectId  \n",
       "0  Are we getting too Sassy? Weighing up micro-op...  7815238  \n",
       "1  Telemba Turns Your Old Roomba and Tablet Into ...  7815234  \n",
       "2           Apple Agrees to Buy Beats for $3 Billion  7815230  \n",
       "3                         Don’t wait for inspiration  7815222  \n",
       "4  HackerOne Get $9M In Series A Funding To Build...  7815191  "
      ]
     },
     "execution_count": 17,
     "metadata": {},
     "output_type": "execute_result"
    }
   ],
   "source": [
    "hn_df = pd.DataFrame(hn_clean)\n",
    "hn_df.head()"
   ]
  },
  {
   "cell_type": "markdown",
   "metadata": {},
   "source": [
    "# Exploring Tags using the Apply fuction\n",
    "\n",
    "`tags` column is a column where each item contains the list of data from our original JSON.\n",
    "\n",
    "At first glance, it looks like each values in this JSON list contain three items:\n",
    "\n",
    "* The string `story`\n",
    "* The name of the author\n",
    "* The story ID\n",
    "\n",
    "If that's the case, then the column doesn't contain any unique data, and we can remove it. We're going to analyze this column to make sure that's the case.\n",
    "\n",
    "## look at the items where the list has four items"
   ]
  },
  {
   "cell_type": "code",
   "execution_count": 20,
   "metadata": {},
   "outputs": [
    {
     "data": {
      "text/plain": [
       "43     [story, author_alamgir_mand, story_7813869, sh...\n",
       "86       [story, author_cweagans, story_7812404, ask_hn]\n",
       "104    [story, author_nightstrike789, story_7812099, ...\n",
       "107    [story, author_ISeemToBeAVerb, story_7812048, ...\n",
       "109       [story, author_Swizec, story_7812018, show_hn]\n",
       "Name: tags, dtype: object"
      ]
     },
     "execution_count": 20,
     "metadata": {},
     "output_type": "execute_result"
    }
   ],
   "source": [
    "four_tags = hn_df.tags[hn_df.tags.apply(len)==4]\n",
    "four_tags.head()"
   ]
  },
  {
   "cell_type": "markdown",
   "metadata": {},
   "source": [
    "It looks like whenever there are four tags, the extra tag is the last of the four."
   ]
  },
  {
   "cell_type": "code",
   "execution_count": 22,
   "metadata": {},
   "outputs": [
    {
     "data": {
      "text/plain": [
       "0    None\n",
       "1    None\n",
       "2    None\n",
       "3    None\n",
       "4    None\n",
       "Name: tags, dtype: object"
      ]
     },
     "execution_count": 22,
     "metadata": {},
     "output_type": "execute_result"
    }
   ],
   "source": [
    "hn_df['tags'] = hn_df.tags.apply(lambda tag: tag[-1] if len(tag)==4 else None)\n",
    "hn_df.tags.head()"
   ]
  },
  {
   "cell_type": "code",
   "execution_count": 23,
   "metadata": {},
   "outputs": [
    {
     "data": {
      "text/plain": [
       "ask_hn     1348\n",
       "show_hn     999\n",
       "Name: tags, dtype: int64"
      ]
     },
     "execution_count": 23,
     "metadata": {},
     "output_type": "execute_result"
    }
   ],
   "source": [
    "hn_df.tags.value_counts()"
   ]
  },
  {
   "cell_type": "code",
   "execution_count": null,
   "metadata": {},
   "outputs": [],
   "source": []
  }
 ],
 "metadata": {
  "kernelspec": {
   "display_name": "Python 3",
   "language": "python",
   "name": "python3"
  },
  "language_info": {
   "codemirror_mode": {
    "name": "ipython",
    "version": 3
   },
   "file_extension": ".py",
   "mimetype": "text/x-python",
   "name": "python",
   "nbconvert_exporter": "python",
   "pygments_lexer": "ipython3",
   "version": "3.6.5"
  }
 },
 "nbformat": 4,
 "nbformat_minor": 4
}
